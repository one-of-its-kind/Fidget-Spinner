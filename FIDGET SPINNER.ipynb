{
 "cells": [
  {
   "cell_type": "markdown",
   "id": "03fb208b",
   "metadata": {},
   "source": [
    "# FIDGET SPINNER\n",
    "    "
   ]
  },
  {
   "cell_type": "code",
   "execution_count": null,
   "id": "b4858781",
   "metadata": {},
   "outputs": [],
   "source": [
    "# import object from module turtle\n",
    "from turtle import *\n",
    "  \n",
    "# initial state of spinner is null (stable)\n",
    "state= {'turn':0 }\n",
    "  \n",
    "# Draw fidget spinner\n",
    "def spin():\n",
    "    clear()\n",
    "  \n",
    "    # Angle of fidget spinner\n",
    "    angle = state['turn']/10\n",
    "  \n",
    "    # To rotate in clock wise we use right\n",
    "    # for Anticlockwise rotation we use left\n",
    "    right(angle)\n",
    "  \n",
    "    # move the turtle forward by specified distance\n",
    "    forward(100)\n",
    "  \n",
    "    # draw a dot with diameter 120 using colour red\n",
    "    dot(120, 'red')\n",
    "  \n",
    "    # move the turtle backward by specified distance\n",
    "    back(100)\n",
    "  \n",
    "    \"second dot\"\n",
    "    right(120)\n",
    "    forward(100)\n",
    "    dot(120, 'blue')\n",
    "    back(100)\n",
    "  \n",
    "    \"third dot\"\n",
    "    right(120)\n",
    "    forward(100)\n",
    "    dot(120, 'green')\n",
    "    back(100)\n",
    "    right(120)\n",
    "  \n",
    "    update()\n",
    "  \n",
    "# Animate fidget spinner\n",
    "def animate():\n",
    "    if state['turn']>0:\n",
    "        state['turn']-=1\n",
    "      \n",
    "    spin()\n",
    "    ontimer(animate, 20)\n",
    "      \n",
    "# Flick fidget spinner\n",
    "def flick():\n",
    "    state['turn']+=40 #acceleration of spinner\n",
    "  \n",
    "# setup window screen\n",
    "setup(600, 400, 370, 0)\n",
    "bgcolor(\"black\")\n",
    "  \n",
    "tracer(False)\n",
    "  \n",
    "# wing of fidget spinner\n",
    "width(60)\n",
    "color(\"orange\")\n",
    "  \n",
    "# keyboard key for the rotation of spinner\n",
    "onkey(flick,'space')\n",
    "  \n",
    "listen()\n",
    "animate()\n",
    "done()"
   ]
  },
  {
   "cell_type": "code",
   "execution_count": null,
   "id": "4ce17007",
   "metadata": {},
   "outputs": [],
   "source": [
    "#Created by-\n",
    "Satyendra Kumar\n",
    "Achal Pratap Singh\n",
    "Ashwan Singh\n",
    "Aditya Kumar Agrahari\n",
    "Kshitij Singh"
   ]
  }
 ],
 "metadata": {
  "kernelspec": {
   "display_name": "Python 3 (ipykernel)",
   "language": "python",
   "name": "python3"
  },
  "language_info": {
   "codemirror_mode": {
    "name": "ipython",
    "version": 3
   },
   "file_extension": ".py",
   "mimetype": "text/x-python",
   "name": "python",
   "nbconvert_exporter": "python",
   "pygments_lexer": "ipython3",
   "version": "3.9.12"
  }
 },
 "nbformat": 4,
 "nbformat_minor": 5
}
